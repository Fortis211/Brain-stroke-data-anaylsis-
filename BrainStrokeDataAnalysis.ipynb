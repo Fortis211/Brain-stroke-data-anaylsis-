{
 "cells": [
  {
   "cell_type": "markdown",
   "metadata": {},
   "source": [
    "# Brain stroke data exploration and stroke chances evaluation \n",
    "Konrad Markowski 13-08-2022\n",
    "\n",
    "data from https://www.kaggle.com/datasets/jillanisofttech/brain-stroke-dataset"
   ]
  },
  {
   "cell_type": "code",
   "execution_count": 1,
   "metadata": {},
   "outputs": [],
   "source": [
    "#loading libraries used in the project\n",
    "import pandas as pd\n",
    "import numpy as np\n",
    "import matplotlib.pyplot as plt\n",
    "import seaborn as sns\n",
    "import matplotlib.gridspec as gridspec"
   ]
  },
  {
   "cell_type": "markdown",
   "metadata": {},
   "source": [
    "## About data\n",
    "\n",
    "Data contains 11 columns, of which only 3 contain continuous data (age, bmi, avg_glucose_level), the rest of the columns contains categorical data either in the boolean form (0 or 1), or in a form of a string. \n",
    "The origin of data, that is when or where the data was made is unknown. "
   ]
  },
  {
   "cell_type": "code",
   "execution_count": 380,
   "metadata": {},
   "outputs": [
    {
     "data": {
      "text/html": [
       "<div>\n",
       "<style scoped>\n",
       "    .dataframe tbody tr th:only-of-type {\n",
       "        vertical-align: middle;\n",
       "    }\n",
       "\n",
       "    .dataframe tbody tr th {\n",
       "        vertical-align: top;\n",
       "    }\n",
       "\n",
       "    .dataframe thead th {\n",
       "        text-align: right;\n",
       "    }\n",
       "</style>\n",
       "<table border=\"1\" class=\"dataframe\">\n",
       "  <thead>\n",
       "    <tr style=\"text-align: right;\">\n",
       "      <th></th>\n",
       "      <th>gender</th>\n",
       "      <th>age</th>\n",
       "      <th>hypertension</th>\n",
       "      <th>heart_disease</th>\n",
       "      <th>ever_married</th>\n",
       "      <th>work_type</th>\n",
       "      <th>Residence_type</th>\n",
       "      <th>avg_glucose_level</th>\n",
       "      <th>bmi</th>\n",
       "      <th>smoking_status</th>\n",
       "      <th>stroke</th>\n",
       "    </tr>\n",
       "  </thead>\n",
       "  <tbody>\n",
       "    <tr>\n",
       "      <th>0</th>\n",
       "      <td>Male</td>\n",
       "      <td>67.0</td>\n",
       "      <td>0</td>\n",
       "      <td>1</td>\n",
       "      <td>Yes</td>\n",
       "      <td>Private</td>\n",
       "      <td>Urban</td>\n",
       "      <td>228.69</td>\n",
       "      <td>36.6</td>\n",
       "      <td>formerly smoked</td>\n",
       "      <td>1</td>\n",
       "    </tr>\n",
       "    <tr>\n",
       "      <th>1</th>\n",
       "      <td>Male</td>\n",
       "      <td>80.0</td>\n",
       "      <td>0</td>\n",
       "      <td>1</td>\n",
       "      <td>Yes</td>\n",
       "      <td>Private</td>\n",
       "      <td>Rural</td>\n",
       "      <td>105.92</td>\n",
       "      <td>32.5</td>\n",
       "      <td>never smoked</td>\n",
       "      <td>1</td>\n",
       "    </tr>\n",
       "    <tr>\n",
       "      <th>2</th>\n",
       "      <td>Female</td>\n",
       "      <td>49.0</td>\n",
       "      <td>0</td>\n",
       "      <td>0</td>\n",
       "      <td>Yes</td>\n",
       "      <td>Private</td>\n",
       "      <td>Urban</td>\n",
       "      <td>171.23</td>\n",
       "      <td>34.4</td>\n",
       "      <td>smokes</td>\n",
       "      <td>1</td>\n",
       "    </tr>\n",
       "    <tr>\n",
       "      <th>3</th>\n",
       "      <td>Female</td>\n",
       "      <td>79.0</td>\n",
       "      <td>1</td>\n",
       "      <td>0</td>\n",
       "      <td>Yes</td>\n",
       "      <td>Self-employed</td>\n",
       "      <td>Rural</td>\n",
       "      <td>174.12</td>\n",
       "      <td>24.0</td>\n",
       "      <td>never smoked</td>\n",
       "      <td>1</td>\n",
       "    </tr>\n",
       "    <tr>\n",
       "      <th>4</th>\n",
       "      <td>Male</td>\n",
       "      <td>81.0</td>\n",
       "      <td>0</td>\n",
       "      <td>0</td>\n",
       "      <td>Yes</td>\n",
       "      <td>Private</td>\n",
       "      <td>Urban</td>\n",
       "      <td>186.21</td>\n",
       "      <td>29.0</td>\n",
       "      <td>formerly smoked</td>\n",
       "      <td>1</td>\n",
       "    </tr>\n",
       "  </tbody>\n",
       "</table>\n",
       "</div>"
      ],
      "text/plain": [
       "   gender   age  hypertension  heart_disease ever_married      work_type  \\\n",
       "0    Male  67.0             0              1          Yes        Private   \n",
       "1    Male  80.0             0              1          Yes        Private   \n",
       "2  Female  49.0             0              0          Yes        Private   \n",
       "3  Female  79.0             1              0          Yes  Self-employed   \n",
       "4    Male  81.0             0              0          Yes        Private   \n",
       "\n",
       "  Residence_type  avg_glucose_level   bmi   smoking_status  stroke  \n",
       "0          Urban             228.69  36.6  formerly smoked       1  \n",
       "1          Rural             105.92  32.5     never smoked       1  \n",
       "2          Urban             171.23  34.4           smokes       1  \n",
       "3          Rural             174.12  24.0     never smoked       1  \n",
       "4          Urban             186.21  29.0  formerly smoked       1  "
      ]
     },
     "execution_count": 380,
     "metadata": {},
     "output_type": "execute_result"
    }
   ],
   "source": [
    "data = pd.read_csv('./data/brain_stroke.csv')\n",
    "data.head()"
   ]
  },
  {
   "cell_type": "markdown",
   "metadata": {},
   "source": [
    "Data has 4733 entries about people that did not have a stroke and 248 people that had a stroke, which signals right away that given dataset has strongly unbalanced data."
   ]
  },
  {
   "cell_type": "code",
   "execution_count": 381,
   "metadata": {},
   "outputs": [
    {
     "data": {
      "text/plain": [
       "stroke\n",
       "0    4733\n",
       "1     248\n",
       "Name: age, dtype: int64"
      ]
     },
     "execution_count": 381,
     "metadata": {},
     "output_type": "execute_result"
    }
   ],
   "source": [
    "data.groupby('stroke')['age'].count()"
   ]
  },
  {
   "cell_type": "markdown",
   "metadata": {},
   "source": [
    "## Data cleaning "
   ]
  },
  {
   "cell_type": "markdown",
   "metadata": {},
   "source": [
    "Data contains 673 children and only 2 cases of stroke among them, because of that they are filtered out from the dataset.\n",
    "\n",
    "Also data containing unknown smoking status is filtered out because of a bias that smoking should have negative impact on health, otherwise this information might be hard to use.\n",
    "\n",
    "This leaves dataset with 3211 no stroke samples and 201 stroke samples."
   ]
  },
  {
   "cell_type": "code",
   "execution_count": 386,
   "metadata": {},
   "outputs": [],
   "source": [
    "#data.query(\"work_type == 'children'\")['age'].count()\n",
    "#data.query(\"work_type == 'children' & stroke == 1\")['age'].count()"
   ]
  },
  {
   "cell_type": "code",
   "execution_count": 388,
   "metadata": {},
   "outputs": [
    {
     "data": {
      "text/plain": [
       "stroke\n",
       "0    3211\n",
       "1     201\n",
       "Name: age, dtype: int64"
      ]
     },
     "execution_count": 388,
     "metadata": {},
     "output_type": "execute_result"
    }
   ],
   "source": [
    "#filtering out data containing children \n",
    "data = data.query(\"work_type != 'children'\")\n",
    "data = data.query(\"smoking_status != 'Unknown'\") # this also filters out 47 cases of patients that had a stroke (out of about 250 in total stroke cases)\n",
    "data.groupby('stroke')['age'].count()"
   ]
  },
  {
   "cell_type": "markdown",
   "metadata": {},
   "source": [
    "## Data visualization "
   ]
  },
  {
   "cell_type": "markdown",
   "metadata": {},
   "source": [
    "### Categorical data\n",
    "\n",
    "In order to properly visualize and interpret categorical data, data was normalized and therefore scaled in each category. \n",
    "\n",
    "Data was divided by gender as it might reveal if there are any differences between male or female. \n",
    "\n",
    "To give better idea how data was normalized, the results for the category 'ever_married' are displayed below. \n"
   ]
  },
  {
   "cell_type": "code",
   "execution_count": 5,
   "metadata": {},
   "outputs": [
    {
     "data": {
      "text/html": [
       "<div>\n",
       "<style scoped>\n",
       "    .dataframe tbody tr th:only-of-type {\n",
       "        vertical-align: middle;\n",
       "    }\n",
       "\n",
       "    .dataframe tbody tr th {\n",
       "        vertical-align: top;\n",
       "    }\n",
       "\n",
       "    .dataframe thead th {\n",
       "        text-align: right;\n",
       "    }\n",
       "</style>\n",
       "<table border=\"1\" class=\"dataframe\">\n",
       "  <thead>\n",
       "    <tr style=\"text-align: right;\">\n",
       "      <th></th>\n",
       "      <th>ever_married</th>\n",
       "      <th>gender</th>\n",
       "      <th>stroke</th>\n",
       "      <th>percentage</th>\n",
       "    </tr>\n",
       "  </thead>\n",
       "  <tbody>\n",
       "    <tr>\n",
       "      <th>0</th>\n",
       "      <td>No</td>\n",
       "      <td>Female</td>\n",
       "      <td>0</td>\n",
       "      <td>96.875000</td>\n",
       "    </tr>\n",
       "    <tr>\n",
       "      <th>1</th>\n",
       "      <td>No</td>\n",
       "      <td>Female</td>\n",
       "      <td>1</td>\n",
       "      <td>3.125000</td>\n",
       "    </tr>\n",
       "    <tr>\n",
       "      <th>2</th>\n",
       "      <td>No</td>\n",
       "      <td>Male</td>\n",
       "      <td>0</td>\n",
       "      <td>97.826087</td>\n",
       "    </tr>\n",
       "    <tr>\n",
       "      <th>3</th>\n",
       "      <td>No</td>\n",
       "      <td>Male</td>\n",
       "      <td>1</td>\n",
       "      <td>2.173913</td>\n",
       "    </tr>\n",
       "    <tr>\n",
       "      <th>4</th>\n",
       "      <td>Yes</td>\n",
       "      <td>Female</td>\n",
       "      <td>0</td>\n",
       "      <td>93.690852</td>\n",
       "    </tr>\n",
       "    <tr>\n",
       "      <th>5</th>\n",
       "      <td>Yes</td>\n",
       "      <td>Female</td>\n",
       "      <td>1</td>\n",
       "      <td>6.309148</td>\n",
       "    </tr>\n",
       "    <tr>\n",
       "      <th>6</th>\n",
       "      <td>Yes</td>\n",
       "      <td>Male</td>\n",
       "      <td>0</td>\n",
       "      <td>92.530345</td>\n",
       "    </tr>\n",
       "    <tr>\n",
       "      <th>7</th>\n",
       "      <td>Yes</td>\n",
       "      <td>Male</td>\n",
       "      <td>1</td>\n",
       "      <td>7.469655</td>\n",
       "    </tr>\n",
       "  </tbody>\n",
       "</table>\n",
       "</div>"
      ],
      "text/plain": [
       "  ever_married  gender  stroke  percentage\n",
       "0           No  Female       0   96.875000\n",
       "1           No  Female       1    3.125000\n",
       "2           No    Male       0   97.826087\n",
       "3           No    Male       1    2.173913\n",
       "4          Yes  Female       0   93.690852\n",
       "5          Yes  Female       1    6.309148\n",
       "6          Yes    Male       0   92.530345\n",
       "7          Yes    Male       1    7.469655"
      ]
     },
     "execution_count": 5,
     "metadata": {},
     "output_type": "execute_result"
    }
   ],
   "source": [
    "p = data.groupby(['ever_married','gender'])['stroke'].value_counts(normalize=True).mul(100).reset_index(name='percentage')\n",
    "p"
   ]
  },
  {
   "cell_type": "code",
   "execution_count": 6,
   "metadata": {},
   "outputs": [
    {
     "data": {
      "image/png": "[encoded data removed]",
      "text/plain": [
       "<Figure size 1800x1080 with 12 Axes>"
      ]
     },
     "metadata": {
      "needs_background": "light"
     },
     "output_type": "display_data"
    }
   ],
   "source": [
    "def makePlot(col_names):\n",
    "\n",
    "    fig = plt.figure(figsize=(25, 15))\n",
    "    outer = gridspec.GridSpec(2, 3, wspace=0.2, hspace=0.3)\n",
    "\n",
    "    for i in range(6):\n",
    "        inner = gridspec.GridSpecFromSubplotSpec(1, 2, subplot_spec=outer[i], wspace=0.1, hspace=0.1)\n",
    "        \n",
    "        p = data.groupby([col_names[i],'gender'])['stroke'].value_counts(normalize=True).mul(100).reset_index(name='percentage')\n",
    "        d = [ p.query(\"gender == 'Female'\"),p.query(\"gender == 'Male'\")]\n",
    "\n",
    "        for j in range(2):\n",
    "\n",
    "            ax = plt.Subplot(fig, inner[j])\n",
    "    \n",
    "            if j == 0:\n",
    "                subplot = sns.histplot(x = col_names[i] , hue = 'stroke',weights= 'percentage', multiple = 'stack',data=d[j],shrink = 0.5, ax=ax,bins=4, legend=False)\n",
    "                subplot.set_ylabel(\"Percent\")\n",
    "                subplot.set_title(col_names[i], size=15, x=1.1)\n",
    "                subplot.set_xlabel(\"Female\")\n",
    "                \n",
    "            else:\n",
    "                subplot = sns.histplot(x = col_names[i] , hue = 'stroke',weights= 'percentage', multiple = 'stack',data=d[j],shrink = 0.5, ax=ax,bins=5)\n",
    "                subplot.set_ylabel(\"\")\n",
    "                subplot.set(yticklabels=[])\n",
    "                subplot.legend(handles=subplot.legend_.legendHandles, labels=[\"No\",\"Yes\"],\n",
    "                    title=subplot.legend_.get_title().get_text(),bbox_to_anchor=(1.01, 1), loc='upper left')\n",
    "                subplot.set_xlabel(\"Male\")\n",
    "            \n",
    "            subplot.tick_params(axis='x', rotation=-40)\n",
    "\n",
    "            fig.add_subplot(ax)\n",
    "\n",
    "categorical_var_col_names = [\"Residence_type\",\"ever_married\",\"smoking_status\",\"work_type\",\"hypertension\",\"heart_disease\"]\n",
    "makePlot(categorical_var_col_names)    "
   ]
  },
  {
   "cell_type": "markdown",
   "metadata": {},
   "source": [
    "Note that for hypertension and heart_disease the values are 0 and 1 which corresponds to 'no' or 'yes' in both cases."
   ]
  },
  {
   "cell_type": "markdown",
   "metadata": {},
   "source": [
    "Looking at the plotted categorical data shows that residence type doesn't seem to have any influence on having a stroke. Because of that this column will be dropped later. \n",
    "\n",
    "For hypertension and heart disease we can see that it increases chances of having a stroke.\n",
    "\n",
    "As for other categories there are small differences, hence it is hard to infer how much of a influence they might have on chances of a stroke. "
   ]
  },
  {
   "cell_type": "markdown",
   "metadata": {},
   "source": [
    "### Continuous data"
   ]
  },
  {
   "cell_type": "markdown",
   "metadata": {},
   "source": [
    "For continuous data there is no need for scaling"
   ]
  },
  {
   "cell_type": "code",
   "execution_count": 7,
   "metadata": {},
   "outputs": [
    {
     "data": {
      "text/html": [
       "<div>\n",
       "<style scoped>\n",
       "    .dataframe tbody tr th:only-of-type {\n",
       "        vertical-align: middle;\n",
       "    }\n",
       "\n",
       "    .dataframe tbody tr th {\n",
       "        vertical-align: top;\n",
       "    }\n",
       "\n",
       "    .dataframe thead th {\n",
       "        text-align: right;\n",
       "    }\n",
       "</style>\n",
       "<table border=\"1\" class=\"dataframe\">\n",
       "  <thead>\n",
       "    <tr style=\"text-align: right;\">\n",
       "      <th></th>\n",
       "      <th>age</th>\n",
       "      <th>hypertension</th>\n",
       "      <th>heart_disease</th>\n",
       "      <th>avg_glucose_level</th>\n",
       "      <th>bmi</th>\n",
       "    </tr>\n",
       "    <tr>\n",
       "      <th>stroke</th>\n",
       "      <th></th>\n",
       "      <th></th>\n",
       "      <th></th>\n",
       "      <th></th>\n",
       "      <th></th>\n",
       "    </tr>\n",
       "  </thead>\n",
       "  <tbody>\n",
       "    <tr>\n",
       "      <th>0</th>\n",
       "      <td>48.653690</td>\n",
       "      <td>0.114295</td>\n",
       "      <td>0.058549</td>\n",
       "      <td>107.347253</td>\n",
       "      <td>29.917814</td>\n",
       "    </tr>\n",
       "    <tr>\n",
       "      <th>1</th>\n",
       "      <td>68.283582</td>\n",
       "      <td>0.308458</td>\n",
       "      <td>0.194030</td>\n",
       "      <td>133.898109</td>\n",
       "      <td>30.398010</td>\n",
       "    </tr>\n",
       "  </tbody>\n",
       "</table>\n",
       "</div>"
      ],
      "text/plain": [
       "              age  hypertension  heart_disease  avg_glucose_level        bmi\n",
       "stroke                                                                      \n",
       "0       48.653690      0.114295       0.058549         107.347253  29.917814\n",
       "1       68.283582      0.308458       0.194030         133.898109  30.398010"
      ]
     },
     "execution_count": 7,
     "metadata": {},
     "output_type": "execute_result"
    }
   ],
   "source": [
    "data.groupby(\"stroke\").aggregate(\"mean\")"
   ]
  },
  {
   "cell_type": "markdown",
   "metadata": {},
   "source": [
    "Note that in the table above hypertension and heart_disease columns shows how many % of a given group has a given feature, other columns shows mean value in the group.\n",
    "\n",
    "Also because there is no detailed information about the glucose level measurement, it will be assumed that values below 100 are normal glucose levels and anything above is 'not normal'.\n",
    "\n",
    "Interestingly both groups have almost identical bmi level which in both cases is the obesity level."
   ]
  },
  {
   "cell_type": "code",
   "execution_count": 8,
   "metadata": {},
   "outputs": [
    {
     "data": {
      "image/png": "[encoded data removed]",
      "text/plain": [
       "<Figure size 1800x504 with 6 Axes>"
      ]
     },
     "metadata": {
      "needs_background": "light"
     },
     "output_type": "display_data"
    }
   ],
   "source": [
    "def makePlot2(col_names):\n",
    "\n",
    "    fig = plt.figure(figsize=(25, 7))\n",
    "    outer = gridspec.GridSpec(1, 3, wspace=0.2, hspace=0.3)\n",
    "\n",
    "    d = [data.query(\"gender == 'Female'\"),data.query(\"gender == 'Male'\")]\n",
    "    \n",
    "    for i in range(3):\n",
    "        inner = gridspec.GridSpecFromSubplotSpec(1, 2, subplot_spec=outer[i], wspace=0.1, hspace=0.1)\n",
    "        yticks = None\n",
    "        ylim = None\n",
    "        for j in range(2):\n",
    "\n",
    "            ax = plt.Subplot(fig, inner[j])\n",
    "            \n",
    "            if j == 0:\n",
    "                subplot = sns.histplot(x = col_names[i] , hue = 'stroke', multiple = 'stack',data=d[j], ax=ax,bins=8, legend=False)\n",
    "                subplot.set_ylabel(\"Count\")\n",
    "                subplot.set_title(col_names[i], size=15, x=1.1)\n",
    "                subplot.set_xlabel(\"Female\") \n",
    "                yticks = subplot.get_yticks().tolist()\n",
    "                ylim = subplot.get_ylim()\n",
    "\n",
    "            else:\n",
    "                subplot = sns.histplot(x = col_names[i] , hue = 'stroke', multiple = 'stack',data=d[j], ax=ax,bins=8)\n",
    "                subplot.set_ylabel(\"\")\n",
    "                subplot.set_yticks(yticks)\n",
    "                subplot.set_yticklabels([])\n",
    "                subplot.set_ylim(ylim)\n",
    "                subplot.legend(handles=subplot.legend_.legendHandles, labels=[\"No\",\"Yes\"],\n",
    "                    title=subplot.legend_.get_title().get_text(),bbox_to_anchor=(1.01, 1), loc='upper left')\n",
    "                subplot.set_xlabel(\"Male\")\n",
    "            \n",
    "            subplot.tick_params(axis='x', rotation=-40)\n",
    "            \n",
    "            fig.add_subplot(ax)\n",
    "\n",
    "continuos_var_col_names = ['age','bmi','avg_glucose_level']\n",
    "makePlot2(continuos_var_col_names)    "
   ]
  },
  {
   "cell_type": "markdown",
   "metadata": {},
   "source": [
    "## Creating machine learning model"
   ]
  },
  {
   "cell_type": "markdown",
   "metadata": {},
   "source": [
    "Logistic regression model seems to fit the data and is easy to interpret, therefore it will be used in this project. \n",
    "\n",
    "The goal for creating this model is to evaluate if given sample is similar to the samples that had a stroke, which might be useful information to evaluate if given sample has higher risk of having a stroke. "
   ]
  },
  {
   "cell_type": "markdown",
   "metadata": {},
   "source": [
    "### Data preparation\n",
    "\n",
    "Creating dummy variables for categorical data."
   ]
  },
  {
   "cell_type": "code",
   "execution_count": 10,
   "metadata": {},
   "outputs": [
    {
     "data": {
      "text/html": [
       "<div>\n",
       "<style scoped>\n",
       "    .dataframe tbody tr th:only-of-type {\n",
       "        vertical-align: middle;\n",
       "    }\n",
       "\n",
       "    .dataframe tbody tr th {\n",
       "        vertical-align: top;\n",
       "    }\n",
       "\n",
       "    .dataframe thead th {\n",
       "        text-align: right;\n",
       "    }\n",
       "</style>\n",
       "<table border=\"1\" class=\"dataframe\">\n",
       "  <thead>\n",
       "    <tr style=\"text-align: right;\">\n",
       "      <th></th>\n",
       "      <th>age</th>\n",
       "      <th>hypertension</th>\n",
       "      <th>heart_disease</th>\n",
       "      <th>avg_glucose_level</th>\n",
       "      <th>bmi</th>\n",
       "      <th>stroke</th>\n",
       "      <th>gender_Female</th>\n",
       "      <th>gender_Male</th>\n",
       "      <th>ever_married_No</th>\n",
       "      <th>ever_married_Yes</th>\n",
       "      <th>work_type_Govt_job</th>\n",
       "      <th>work_type_Private</th>\n",
       "      <th>work_type_Self-employed</th>\n",
       "      <th>smoking_status_formerly smoked</th>\n",
       "      <th>smoking_status_never smoked</th>\n",
       "      <th>smoking_status_smokes</th>\n",
       "    </tr>\n",
       "  </thead>\n",
       "  <tbody>\n",
       "    <tr>\n",
       "      <th>0</th>\n",
       "      <td>67.0</td>\n",
       "      <td>0</td>\n",
       "      <td>1</td>\n",
       "      <td>228.69</td>\n",
       "      <td>36.6</td>\n",
       "      <td>1</td>\n",
       "      <td>0</td>\n",
       "      <td>1</td>\n",
       "      <td>0</td>\n",
       "      <td>1</td>\n",
       "      <td>0</td>\n",
       "      <td>1</td>\n",
       "      <td>0</td>\n",
       "      <td>1</td>\n",
       "      <td>0</td>\n",
       "      <td>0</td>\n",
       "    </tr>\n",
       "    <tr>\n",
       "      <th>1</th>\n",
       "      <td>80.0</td>\n",
       "      <td>0</td>\n",
       "      <td>1</td>\n",
       "      <td>105.92</td>\n",
       "      <td>32.5</td>\n",
       "      <td>1</td>\n",
       "      <td>0</td>\n",
       "      <td>1</td>\n",
       "      <td>0</td>\n",
       "      <td>1</td>\n",
       "      <td>0</td>\n",
       "      <td>1</td>\n",
       "      <td>0</td>\n",
       "      <td>0</td>\n",
       "      <td>1</td>\n",
       "      <td>0</td>\n",
       "    </tr>\n",
       "    <tr>\n",
       "      <th>2</th>\n",
       "      <td>49.0</td>\n",
       "      <td>0</td>\n",
       "      <td>0</td>\n",
       "      <td>171.23</td>\n",
       "      <td>34.4</td>\n",
       "      <td>1</td>\n",
       "      <td>1</td>\n",
       "      <td>0</td>\n",
       "      <td>0</td>\n",
       "      <td>1</td>\n",
       "      <td>0</td>\n",
       "      <td>1</td>\n",
       "      <td>0</td>\n",
       "      <td>0</td>\n",
       "      <td>0</td>\n",
       "      <td>1</td>\n",
       "    </tr>\n",
       "    <tr>\n",
       "      <th>3</th>\n",
       "      <td>79.0</td>\n",
       "      <td>1</td>\n",
       "      <td>0</td>\n",
       "      <td>174.12</td>\n",
       "      <td>24.0</td>\n",
       "      <td>1</td>\n",
       "      <td>1</td>\n",
       "      <td>0</td>\n",
       "      <td>0</td>\n",
       "      <td>1</td>\n",
       "      <td>0</td>\n",
       "      <td>0</td>\n",
       "      <td>1</td>\n",
       "      <td>0</td>\n",
       "      <td>1</td>\n",
       "      <td>0</td>\n",
       "    </tr>\n",
       "    <tr>\n",
       "      <th>4</th>\n",
       "      <td>81.0</td>\n",
       "      <td>0</td>\n",
       "      <td>0</td>\n",
       "      <td>186.21</td>\n",
       "      <td>29.0</td>\n",
       "      <td>1</td>\n",
       "      <td>0</td>\n",
       "      <td>1</td>\n",
       "      <td>0</td>\n",
       "      <td>1</td>\n",
       "      <td>0</td>\n",
       "      <td>1</td>\n",
       "      <td>0</td>\n",
       "      <td>1</td>\n",
       "      <td>0</td>\n",
       "      <td>0</td>\n",
       "    </tr>\n",
       "  </tbody>\n",
       "</table>\n",
       "</div>"
      ],
      "text/plain": [
       "    age  hypertension  heart_disease  avg_glucose_level   bmi  stroke  \\\n",
       "0  67.0             0              1             228.69  36.6       1   \n",
       "1  80.0             0              1             105.92  32.5       1   \n",
       "2  49.0             0              0             171.23  34.4       1   \n",
       "3  79.0             1              0             174.12  24.0       1   \n",
       "4  81.0             0              0             186.21  29.0       1   \n",
       "\n",
       "   gender_Female  gender_Male  ever_married_No  ever_married_Yes  \\\n",
       "0              0            1                0                 1   \n",
       "1              0            1                0                 1   \n",
       "2              1            0                0                 1   \n",
       "3              1            0                0                 1   \n",
       "4              0            1                0                 1   \n",
       "\n",
       "   work_type_Govt_job  work_type_Private  work_type_Self-employed  \\\n",
       "0                   0                  1                        0   \n",
       "1                   0                  1                        0   \n",
       "2                   0                  1                        0   \n",
       "3                   0                  0                        1   \n",
       "4                   0                  1                        0   \n",
       "\n",
       "   smoking_status_formerly smoked  smoking_status_never smoked  \\\n",
       "0                               1                            0   \n",
       "1                               0                            1   \n",
       "2                               0                            0   \n",
       "3                               0                            1   \n",
       "4                               1                            0   \n",
       "\n",
       "   smoking_status_smokes  \n",
       "0                      0  \n",
       "1                      0  \n",
       "2                      1  \n",
       "3                      0  \n",
       "4                      0  "
      ]
     },
     "execution_count": 10,
     "metadata": {},
     "output_type": "execute_result"
    }
   ],
   "source": [
    "data.drop(columns=\"Residence_type\", inplace=True) # dropping residence type column as it doesn't seem to have any influence on having a stroke\n",
    "data_dummies = pd.get_dummies(data) # creating dummy variables for categorical data\n",
    "data_dummies.head()"
   ]
  },
  {
   "cell_type": "markdown",
   "metadata": {},
   "source": [
    "Splitting data into features and target."
   ]
  },
  {
   "cell_type": "code",
   "execution_count": 373,
   "metadata": {},
   "outputs": [
    {
     "name": "stdout",
     "output_type": "stream",
     "text": [
      "X.shape: (3412, 15) y.shape: (3412,)\n"
     ]
    }
   ],
   "source": [
    "features_names = [x for x in data_dummies.keys() if x != 'stroke']\n",
    "features = data_dummies.loc[:,features_names]\n",
    "\n",
    "X = features.values\n",
    "y = data_dummies[\"stroke\"].values\n",
    "\n",
    "# check if sizes are the same\n",
    "print(\"X.shape: {} y.shape: {}\".format(X.shape, y.shape))"
   ]
  },
  {
   "cell_type": "markdown",
   "metadata": {},
   "source": [
    "### Creating and evaluating model"
   ]
  },
  {
   "cell_type": "markdown",
   "metadata": {},
   "source": [
    "Applying the data into the model, because of the high unbalance between count of stroke and no stroke cases, the class_weight argument is used. \n",
    "\n",
    "Otherwise model would always assume 'no stroke' which is obviously wrong. "
   ]
  },
  {
   "cell_type": "code",
   "execution_count": 103,
   "metadata": {},
   "outputs": [
    {
     "name": "stdout",
     "output_type": "stream",
     "text": [
      "Test score: 0.72\n"
     ]
    }
   ],
   "source": [
    "from sklearn.linear_model import LogisticRegression\n",
    "from sklearn.model_selection import train_test_split\n",
    "X_train, X_test, y_train, y_test = train_test_split(X, y)\n",
    "\n",
    "logreg = LogisticRegression(max_iter=1000,C=1000,class_weight='balanced',random_state=10)\n",
    "logreg.fit(X_train, y_train)\n",
    "\n",
    "print(\"Test score: {:.2f}\".format(logreg.score(X_test, y_test)))\n",
    "pred_logreg = logreg.predict(X_test)"
   ]
  },
  {
   "cell_type": "code",
   "execution_count": 104,
   "metadata": {},
   "outputs": [
    {
     "name": "stdout",
     "output_type": "stream",
     "text": [
      "              precision    recall  f1-score   support\n",
      "\n",
      "   no stroke       0.99      0.71      0.83       797\n",
      "      stroke       0.18      0.91      0.30        56\n",
      "\n",
      "    accuracy                           0.72       853\n",
      "   macro avg       0.59      0.81      0.56       853\n",
      "weighted avg       0.94      0.72      0.79       853\n",
      "\n"
     ]
    }
   ],
   "source": [
    "from sklearn.metrics import classification_report\n",
    "print(classification_report(y_test, pred_logreg,target_names=[\"no stroke\", \"stroke\"]))\n"
   ]
  },
  {
   "cell_type": "code",
   "execution_count": 374,
   "metadata": {},
   "outputs": [
    {
     "data": {
      "text/plain": [
       "Text(40.82000000000001, 0.5, 'true value')"
      ]
     },
     "execution_count": 374,
     "metadata": {},
     "output_type": "execute_result"
    },
    {
     "data": {
      "image/png": "[encoded data removed]",
      "text/plain": [
       "<Figure size 432x432 with 1 Axes>"
      ]
     },
     "metadata": {
      "needs_background": "light"
     },
     "output_type": "display_data"
    }
   ],
   "source": [
    "from sklearn.metrics import confusion_matrix\n",
    "confusion = confusion_matrix(y_test, pred_logreg)\n",
    "\n",
    "plt.figure(figsize=(6,6))\n",
    "sns.heatmap(confusion, square=True, annot=True, cbar=False)\n",
    "plt.xlabel('predicted value')\n",
    "plt.ylabel('true value')"
   ]
  },
  {
   "cell_type": "markdown",
   "metadata": {},
   "source": [
    "Results on test data shows that model assumed about 230 cases as false-positive, which doesn't seem good but maybe these samples had similar feature values as positive cases which mean these samples might have higher risk of having a stroke. Other than that model assumed most true positive cases as positive."
   ]
  },
  {
   "cell_type": "markdown",
   "metadata": {},
   "source": [
    "### Model coefficient interpretation"
   ]
  },
  {
   "cell_type": "code",
   "execution_count": 375,
   "metadata": {},
   "outputs": [
    {
     "data": {
      "text/plain": [
       "Text(0, 0.5, 'Coefficient magnitude')"
      ]
     },
     "execution_count": 375,
     "metadata": {},
     "output_type": "execute_result"
    },
    {
     "data": {
      "image/png": "[encoded data removed]",
      "text/plain": [
       "<Figure size 1296x360 with 1 Axes>"
      ]
     },
     "metadata": {
      "needs_background": "light"
     },
     "output_type": "display_data"
    }
   ],
   "source": [
    "plt.figure(figsize=(18,5))\n",
    "plt.plot(logreg.coef_.T, 'o')\n",
    "plt.xticks(range(len(features_names)), features_names, rotation=90)\n",
    "plt.hlines(0, 0, (len(features_names)))\n",
    "plt.xlabel(\"Coefficient index\")\n",
    "plt.ylabel(\"Coefficient magnitude\")"
   ]
  },
  {
   "cell_type": "markdown",
   "metadata": {},
   "source": [
    "Looking on the coefficients magnitude we can see that glucose level and bmi doesn't seem to be much influenced by the model.\n",
    "\n",
    "Interpretation of categorical dummy variables should be done in the groups of their categories they come from and the differences are really small except for the smoking, where never smoking i weighted significantly more than smoking and formerly smoking."
   ]
  },
  {
   "cell_type": "markdown",
   "metadata": {},
   "source": [
    "### Model probabilistic interpretation"
   ]
  },
  {
   "cell_type": "markdown",
   "metadata": {},
   "source": [
    "As noted earlier, high false-positive result might be caused by correct model evaluation that a given sample has similar results as the positive cases. In order to prove that tested data will be analyzed in terms of probability given by the model."
   ]
  },
  {
   "cell_type": "code",
   "execution_count": 355,
   "metadata": {},
   "outputs": [],
   "source": [
    "result_df = pd.DataFrame(logreg.predict_proba(X_test), columns=['no_stroke_proba', 'stroke_proba'] )\n",
    "test_df = pd.DataFrame(X_test,columns=features_names)\n",
    "result_df = pd.concat([result_df,test_df],axis=1)"
   ]
  },
  {
   "cell_type": "markdown",
   "metadata": {},
   "source": [
    "Firstly test data was divided into groups with at least 50% certainty for belonging to either category ('High risk for a stroke' or 'Low risk for a stroke'). \n",
    "\n",
    "In this case all test data is taken into account, and values except for age, avg_glucose_level and bmi (which are mean values for the group) are representing how much of the group has a given feature (vales from 0 to 1, it is equivalent to percent).\n"
   ]
  },
  {
   "cell_type": "code",
   "execution_count": 392,
   "metadata": {},
   "outputs": [
    {
     "data": {
      "text/html": [
       "<div>\n",
       "<style scoped>\n",
       "    .dataframe tbody tr th:only-of-type {\n",
       "        vertical-align: middle;\n",
       "    }\n",
       "\n",
       "    .dataframe tbody tr th {\n",
       "        vertical-align: top;\n",
       "    }\n",
       "\n",
       "    .dataframe thead th {\n",
       "        text-align: right;\n",
       "    }\n",
       "</style>\n",
       "<table border=\"1\" class=\"dataframe\">\n",
       "  <thead>\n",
       "    <tr style=\"text-align: right;\">\n",
       "      <th>at_least_50%_certain_that</th>\n",
       "      <th>High risk for a stroke</th>\n",
       "      <th>Low risk for a stroke</th>\n",
       "    </tr>\n",
       "  </thead>\n",
       "  <tbody>\n",
       "    <tr>\n",
       "      <th>age</th>\n",
       "      <td>70.24</td>\n",
       "      <td>39.78</td>\n",
       "    </tr>\n",
       "    <tr>\n",
       "      <th>hypertension</th>\n",
       "      <td>0.29</td>\n",
       "      <td>0.04</td>\n",
       "    </tr>\n",
       "    <tr>\n",
       "      <th>heart_disease</th>\n",
       "      <td>0.15</td>\n",
       "      <td>0.02</td>\n",
       "    </tr>\n",
       "    <tr>\n",
       "      <th>avg_glucose_level</th>\n",
       "      <td>130.23</td>\n",
       "      <td>98.50</td>\n",
       "    </tr>\n",
       "    <tr>\n",
       "      <th>bmi</th>\n",
       "      <td>30.41</td>\n",
       "      <td>30.10</td>\n",
       "    </tr>\n",
       "    <tr>\n",
       "      <th>gender_Female</th>\n",
       "      <td>0.61</td>\n",
       "      <td>0.62</td>\n",
       "    </tr>\n",
       "    <tr>\n",
       "      <th>gender_Male</th>\n",
       "      <td>0.39</td>\n",
       "      <td>0.38</td>\n",
       "    </tr>\n",
       "    <tr>\n",
       "      <th>ever_married_No</th>\n",
       "      <td>0.10</td>\n",
       "      <td>0.30</td>\n",
       "    </tr>\n",
       "    <tr>\n",
       "      <th>ever_married_Yes</th>\n",
       "      <td>0.90</td>\n",
       "      <td>0.70</td>\n",
       "    </tr>\n",
       "    <tr>\n",
       "      <th>work_type_Govt_job</th>\n",
       "      <td>0.09</td>\n",
       "      <td>0.18</td>\n",
       "    </tr>\n",
       "    <tr>\n",
       "      <th>work_type_Private</th>\n",
       "      <td>0.54</td>\n",
       "      <td>0.68</td>\n",
       "    </tr>\n",
       "    <tr>\n",
       "      <th>work_type_Self-employed</th>\n",
       "      <td>0.36</td>\n",
       "      <td>0.14</td>\n",
       "    </tr>\n",
       "    <tr>\n",
       "      <th>smoking_status_formerly smoked</th>\n",
       "      <td>0.40</td>\n",
       "      <td>0.18</td>\n",
       "    </tr>\n",
       "    <tr>\n",
       "      <th>smoking_status_never smoked</th>\n",
       "      <td>0.43</td>\n",
       "      <td>0.59</td>\n",
       "    </tr>\n",
       "    <tr>\n",
       "      <th>smoking_status_smokes</th>\n",
       "      <td>0.17</td>\n",
       "      <td>0.24</td>\n",
       "    </tr>\n",
       "  </tbody>\n",
       "</table>\n",
       "</div>"
      ],
      "text/plain": [
       "at_least_50%_certain_that       High risk for a stroke  Low risk for a stroke\n",
       "age                                              70.24                  39.78\n",
       "hypertension                                      0.29                   0.04\n",
       "heart_disease                                     0.15                   0.02\n",
       "avg_glucose_level                               130.23                  98.50\n",
       "bmi                                              30.41                  30.10\n",
       "gender_Female                                     0.61                   0.62\n",
       "gender_Male                                       0.39                   0.38\n",
       "ever_married_No                                   0.10                   0.30\n",
       "ever_married_Yes                                  0.90                   0.70\n",
       "work_type_Govt_job                                0.09                   0.18\n",
       "work_type_Private                                 0.54                   0.68\n",
       "work_type_Self-employed                           0.36                   0.14\n",
       "smoking_status_formerly smoked                    0.40                   0.18\n",
       "smoking_status_never smoked                       0.43                   0.59\n",
       "smoking_status_smokes                             0.17                   0.24"
      ]
     },
     "execution_count": 392,
     "metadata": {},
     "output_type": "execute_result"
    }
   ],
   "source": [
    "result_df[\"at_least_50%_certain_that\"] = np.nan\n",
    "result_df[\"at_least_50%_certain_that\"]=result_df[\"at_least_50%_certain_that\"].mask(result_df[\"stroke_proba\"] >= 0.5, \"High risk for a stroke\").mask(result_df[\"no_stroke_proba\"] >= 0.5, \"Low risk for a stroke\")\n",
    "result_df.groupby(\"at_least_50%_certain_that\").mean().round(2).drop(['no_stroke_proba','stroke_proba'],axis=1).transpose()"
   ]
  },
  {
   "cell_type": "markdown",
   "metadata": {},
   "source": [
    "We can expect that if we increase minimum certainty of the model, mean age and glucose levels for 'Low risk for a stroke' will decrease and for 'High risk for a stroke' -  increase."
   ]
  },
  {
   "cell_type": "code",
   "execution_count": 393,
   "metadata": {},
   "outputs": [
    {
     "data": {
      "text/html": [
       "<div>\n",
       "<style scoped>\n",
       "    .dataframe tbody tr th:only-of-type {\n",
       "        vertical-align: middle;\n",
       "    }\n",
       "\n",
       "    .dataframe tbody tr th {\n",
       "        vertical-align: top;\n",
       "    }\n",
       "\n",
       "    .dataframe thead th {\n",
       "        text-align: right;\n",
       "    }\n",
       "</style>\n",
       "<table border=\"1\" class=\"dataframe\">\n",
       "  <thead>\n",
       "    <tr style=\"text-align: right;\">\n",
       "      <th>at_least_70%_certain_that</th>\n",
       "      <th>High risk for a stroke</th>\n",
       "      <th>Low risk for a stroke</th>\n",
       "    </tr>\n",
       "  </thead>\n",
       "  <tbody>\n",
       "    <tr>\n",
       "      <th>age</th>\n",
       "      <td>74.81</td>\n",
       "      <td>34.07</td>\n",
       "    </tr>\n",
       "    <tr>\n",
       "      <th>hypertension</th>\n",
       "      <td>0.44</td>\n",
       "      <td>0.02</td>\n",
       "    </tr>\n",
       "    <tr>\n",
       "      <th>heart_disease</th>\n",
       "      <td>0.23</td>\n",
       "      <td>0.00</td>\n",
       "    </tr>\n",
       "    <tr>\n",
       "      <th>avg_glucose_level</th>\n",
       "      <td>147.08</td>\n",
       "      <td>95.58</td>\n",
       "    </tr>\n",
       "    <tr>\n",
       "      <th>bmi</th>\n",
       "      <td>30.54</td>\n",
       "      <td>29.41</td>\n",
       "    </tr>\n",
       "    <tr>\n",
       "      <th>gender_Female</th>\n",
       "      <td>0.62</td>\n",
       "      <td>0.61</td>\n",
       "    </tr>\n",
       "    <tr>\n",
       "      <th>gender_Male</th>\n",
       "      <td>0.38</td>\n",
       "      <td>0.39</td>\n",
       "    </tr>\n",
       "    <tr>\n",
       "      <th>ever_married_No</th>\n",
       "      <td>0.09</td>\n",
       "      <td>0.38</td>\n",
       "    </tr>\n",
       "    <tr>\n",
       "      <th>ever_married_Yes</th>\n",
       "      <td>0.91</td>\n",
       "      <td>0.62</td>\n",
       "    </tr>\n",
       "    <tr>\n",
       "      <th>work_type_Govt_job</th>\n",
       "      <td>0.07</td>\n",
       "      <td>0.17</td>\n",
       "    </tr>\n",
       "    <tr>\n",
       "      <th>work_type_Private</th>\n",
       "      <td>0.54</td>\n",
       "      <td>0.72</td>\n",
       "    </tr>\n",
       "    <tr>\n",
       "      <th>work_type_Self-employed</th>\n",
       "      <td>0.39</td>\n",
       "      <td>0.11</td>\n",
       "    </tr>\n",
       "    <tr>\n",
       "      <th>smoking_status_formerly smoked</th>\n",
       "      <td>0.45</td>\n",
       "      <td>0.14</td>\n",
       "    </tr>\n",
       "    <tr>\n",
       "      <th>smoking_status_never smoked</th>\n",
       "      <td>0.39</td>\n",
       "      <td>0.63</td>\n",
       "    </tr>\n",
       "    <tr>\n",
       "      <th>smoking_status_smokes</th>\n",
       "      <td>0.16</td>\n",
       "      <td>0.23</td>\n",
       "    </tr>\n",
       "  </tbody>\n",
       "</table>\n",
       "</div>"
      ],
      "text/plain": [
       "at_least_70%_certain_that       High risk for a stroke  Low risk for a stroke\n",
       "age                                              74.81                  34.07\n",
       "hypertension                                      0.44                   0.02\n",
       "heart_disease                                     0.23                   0.00\n",
       "avg_glucose_level                               147.08                  95.58\n",
       "bmi                                              30.54                  29.41\n",
       "gender_Female                                     0.62                   0.61\n",
       "gender_Male                                       0.38                   0.39\n",
       "ever_married_No                                   0.09                   0.38\n",
       "ever_married_Yes                                  0.91                   0.62\n",
       "work_type_Govt_job                                0.07                   0.17\n",
       "work_type_Private                                 0.54                   0.72\n",
       "work_type_Self-employed                           0.39                   0.11\n",
       "smoking_status_formerly smoked                    0.45                   0.14\n",
       "smoking_status_never smoked                       0.39                   0.63\n",
       "smoking_status_smokes                             0.16                   0.23"
      ]
     },
     "execution_count": 393,
     "metadata": {},
     "output_type": "execute_result"
    }
   ],
   "source": [
    "result_df[\"at_least_70%_certain_that\"] = np.nan\n",
    "result_df[\"at_least_70%_certain_that\"]=result_df[\"at_least_70%_certain_that\"].mask(result_df[\"stroke_proba\"] >= 0.7, \"High risk for a stroke\").mask(result_df[\"no_stroke_proba\"] >= 0.7, \"Low risk for a stroke\")\n",
    "result_df.groupby(\"at_least_70%_certain_that\").mean().round(2).drop(['no_stroke_proba','stroke_proba'],axis=1).transpose()"
   ]
  },
  {
   "cell_type": "markdown",
   "metadata": {},
   "source": [
    "We can also notice that smoking_status_never smoked value increases for 'Low risk for a stroke' with increase of certainty, and for high risk -  decreases."
   ]
  },
  {
   "cell_type": "code",
   "execution_count": 394,
   "metadata": {},
   "outputs": [
    {
     "data": {
      "text/html": [
       "<div>\n",
       "<style scoped>\n",
       "    .dataframe tbody tr th:only-of-type {\n",
       "        vertical-align: middle;\n",
       "    }\n",
       "\n",
       "    .dataframe tbody tr th {\n",
       "        vertical-align: top;\n",
       "    }\n",
       "\n",
       "    .dataframe thead th {\n",
       "        text-align: right;\n",
       "    }\n",
       "</style>\n",
       "<table border=\"1\" class=\"dataframe\">\n",
       "  <thead>\n",
       "    <tr style=\"text-align: right;\">\n",
       "      <th>at_least_90%_certain_that</th>\n",
       "      <th>High risk for a stroke</th>\n",
       "      <th>Low risk for a stroke</th>\n",
       "    </tr>\n",
       "  </thead>\n",
       "  <tbody>\n",
       "    <tr>\n",
       "      <th>age</th>\n",
       "      <td>79.80</td>\n",
       "      <td>24.46</td>\n",
       "    </tr>\n",
       "    <tr>\n",
       "      <th>hypertension</th>\n",
       "      <td>1.00</td>\n",
       "      <td>0.00</td>\n",
       "    </tr>\n",
       "    <tr>\n",
       "      <th>heart_disease</th>\n",
       "      <td>0.20</td>\n",
       "      <td>0.00</td>\n",
       "    </tr>\n",
       "    <tr>\n",
       "      <th>avg_glucose_level</th>\n",
       "      <td>170.43</td>\n",
       "      <td>90.57</td>\n",
       "    </tr>\n",
       "    <tr>\n",
       "      <th>bmi</th>\n",
       "      <td>30.28</td>\n",
       "      <td>27.73</td>\n",
       "    </tr>\n",
       "    <tr>\n",
       "      <th>gender_Female</th>\n",
       "      <td>0.40</td>\n",
       "      <td>0.60</td>\n",
       "    </tr>\n",
       "    <tr>\n",
       "      <th>gender_Male</th>\n",
       "      <td>0.60</td>\n",
       "      <td>0.40</td>\n",
       "    </tr>\n",
       "    <tr>\n",
       "      <th>ever_married_No</th>\n",
       "      <td>0.00</td>\n",
       "      <td>0.72</td>\n",
       "    </tr>\n",
       "    <tr>\n",
       "      <th>ever_married_Yes</th>\n",
       "      <td>1.00</td>\n",
       "      <td>0.28</td>\n",
       "    </tr>\n",
       "    <tr>\n",
       "      <th>work_type_Govt_job</th>\n",
       "      <td>0.00</td>\n",
       "      <td>0.13</td>\n",
       "    </tr>\n",
       "    <tr>\n",
       "      <th>work_type_Private</th>\n",
       "      <td>0.20</td>\n",
       "      <td>0.79</td>\n",
       "    </tr>\n",
       "    <tr>\n",
       "      <th>work_type_Self-employed</th>\n",
       "      <td>0.80</td>\n",
       "      <td>0.08</td>\n",
       "    </tr>\n",
       "    <tr>\n",
       "      <th>smoking_status_formerly smoked</th>\n",
       "      <td>0.80</td>\n",
       "      <td>0.10</td>\n",
       "    </tr>\n",
       "    <tr>\n",
       "      <th>smoking_status_never smoked</th>\n",
       "      <td>0.00</td>\n",
       "      <td>0.72</td>\n",
       "    </tr>\n",
       "    <tr>\n",
       "      <th>smoking_status_smokes</th>\n",
       "      <td>0.20</td>\n",
       "      <td>0.18</td>\n",
       "    </tr>\n",
       "  </tbody>\n",
       "</table>\n",
       "</div>"
      ],
      "text/plain": [
       "at_least_90%_certain_that       High risk for a stroke  Low risk for a stroke\n",
       "age                                              79.80                  24.46\n",
       "hypertension                                      1.00                   0.00\n",
       "heart_disease                                     0.20                   0.00\n",
       "avg_glucose_level                               170.43                  90.57\n",
       "bmi                                              30.28                  27.73\n",
       "gender_Female                                     0.40                   0.60\n",
       "gender_Male                                       0.60                   0.40\n",
       "ever_married_No                                   0.00                   0.72\n",
       "ever_married_Yes                                  1.00                   0.28\n",
       "work_type_Govt_job                                0.00                   0.13\n",
       "work_type_Private                                 0.20                   0.79\n",
       "work_type_Self-employed                           0.80                   0.08\n",
       "smoking_status_formerly smoked                    0.80                   0.10\n",
       "smoking_status_never smoked                       0.00                   0.72\n",
       "smoking_status_smokes                             0.20                   0.18"
      ]
     },
     "execution_count": 394,
     "metadata": {},
     "output_type": "execute_result"
    }
   ],
   "source": [
    "result_df[\"at_least_90%_certain_that\"] = np.nan\n",
    "result_df[\"at_least_90%_certain_that\"]=result_df[\"at_least_90%_certain_that\"].mask(result_df[\"stroke_proba\"] >= 0.9, \"High risk for a stroke\").mask(result_df[\"no_stroke_proba\"] >= 0.9, \"Low risk for a stroke\")\n",
    "result_df.groupby(\"at_least_90%_certain_that\").mean().round(2).drop(['no_stroke_proba','stroke_proba'],axis=1).transpose()"
   ]
  },
  {
   "cell_type": "markdown",
   "metadata": {},
   "source": [
    "We can see that models seems to be correctly evaluating if the given sample should be classified as high or low risk. Hence, high false-positive rate is a result of samples that have similar values as positive cases yet they were not having a stroke.\n",
    "Because goal for this model was to vaguely evaluate risk of having a stroke this is not concerning and results are confirming intuition and common knowledge such as increasing chance for a stroke with age."
   ]
  },
  {
   "cell_type": "markdown",
   "metadata": {},
   "source": [
    "## Conclusion"
   ]
  },
  {
   "cell_type": "markdown",
   "metadata": {},
   "source": [
    "Data exploration and model did not bring any new insight. They confirmed known facts and intuition which is good but a bit disappointing, as the categorical features like being married, work type or residence type didn't seem to have any impact on the results.\n",
    "Because of data size and unbalance there could be a problem with creating a good model but results seem to be very good, yet bigger size of positive samples would be welcomed.\n",
    "\n",
    "Because bmi in both groups ('stroke' and 'no stroke') was almost identical, this feature also did not play much of a role in the analysis but it might be worth to note that with increase of the model certainty, there was a small drop in the bmi for the 'Low risk for a stroke' category.\n",
    "\n"
   ]
  }
 ],
 "metadata": {
  "kernelspec": {
   "display_name": "Python 3.10.6 64-bit",
   "language": "python",
   "name": "python3"
  },
  "language_info": {
   "codemirror_mode": {
    "name": "ipython",
    "version": 3
   },
   "file_extension": ".py",
   "mimetype": "text/x-python",
   "name": "python",
   "nbconvert_exporter": "python",
   "pygments_lexer": "ipython3",
   "version": "3.10.6"
  },
  "orig_nbformat": 4,
  "vscode": {
   "interpreter": {
    "hash": "44863cc730a940c77107e471969d96adc98c58c343e56f9436aad5465b97f086"
   }
  }
 },
 "nbformat": 4,
 "nbformat_minor": 2
}
